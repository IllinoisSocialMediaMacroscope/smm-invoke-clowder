{
 "cells": [
  {
   "cell_type": "code",
   "execution_count": 1,
   "metadata": {
    "collapsed": true
   },
   "outputs": [],
   "source": [
    "import requests\n",
    "import json\n",
    "auth = ('your username','your password!')\n",
    "headers = {'Content-type': 'application/json', 'accept': 'application/json'}"
   ]
  },
  {
   "cell_type": "markdown",
   "metadata": {},
   "source": [
    "## collections - Collections are groupings of datasets"
   ]
  },
  {
   "cell_type": "markdown",
   "metadata": {},
   "source": [
    "### create collections"
   ]
  },
  {
   "cell_type": "code",
   "execution_count": 2,
   "metadata": {},
   "outputs": [
    {
     "name": "stdout",
     "output_type": "stream",
     "text": [
      "200\n",
      "{\"id\":\"5a85c3274f0cb43c8e38417c\"}\n",
      "{'id': '5a85c3274f0cb43c8e38417c'}\n"
     ]
    }
   ],
   "source": [
    "# param: name, description\n",
    "# spaces id: string; note different from dataset, dataset can be added to multiple collections and spaces\n",
    "# here collection can only choose ONE space\n",
    "payload = json.dumps({'name':'cccccc',\n",
    "                      #'description': 'test creating new collections & add to space',\n",
    "                      #'space':'5a7c84a04f0cb43c8e37e206'\n",
    "                     })\n",
    "r = requests.post('https://socialmediamacroscope.ncsa.illinois.edu/clowder/api/collections',\n",
    "                 data=payload,\n",
    "                 headers=headers,\n",
    "                 auth=auth)\n",
    "print(r.status_code)\n",
    "print(r.text)\n",
    "print(r.json())"
   ]
  },
  {
   "cell_type": "markdown",
   "metadata": {},
   "source": [
    "### list collections"
   ]
  },
  {
   "cell_type": "code",
   "execution_count": 9,
   "metadata": {},
   "outputs": [
    {
     "name": "stdout",
     "output_type": "stream",
     "text": [
      "200\n",
      "[{\"author\":\"MiniUser(5a3c12d326705823ee65ab15,Chen Wang,http://www.gravatar.com/avatar/2f97a52f2214949c4172d7fb796f173e?s=256&d=mm,Some(cwang138@illinois.edu))\",\"name\":\"bbbbbb\",\"description\":\"test creating new collections\",\"datasetCount\":\"0\",\"child_collection_ids\":\"List()\",\"id\":\"5a7c811b4f0cb43c8e37e1df\",\"parent_collection_ids\":\"List()\",\"root_flag\":\"false\",\"spaces\":\"List()\",\"created\":\"Thu Feb 08 10:55:55 CST 2018\",\"childCollectionsCount\":\"0\"}]\n",
      "[{'author': 'MiniUser(5a3c12d326705823ee65ab15,Chen Wang,http://www.gravatar.com/avatar/2f97a52f2214949c4172d7fb796f173e?s=256&d=mm,Some(cwang138@illinois.edu))', 'name': 'bbbbbb', 'description': 'test creating new collections', 'datasetCount': '0', 'child_collection_ids': 'List()', 'id': '5a7c811b4f0cb43c8e37e1df', 'parent_collection_ids': 'List()', 'root_flag': 'false', 'spaces': 'List()', 'created': 'Thu Feb 08 10:55:55 CST 2018', 'childCollectionsCount': '0'}]\n"
     ]
    }
   ],
   "source": [
    "r = requests.get('https://socialmediamacroscope.ncsa.illinois.edu/clowder/api/collections/allCollections', \n",
    "                 auth=auth)\n",
    "print(r.status_code)\n",
    "print(r.text)\n",
    "print(r.json())"
   ]
  },
  {
   "cell_type": "markdown",
   "metadata": {},
   "source": [
    "### add dataset to collection"
   ]
  },
  {
   "cell_type": "code",
   "execution_count": 11,
   "metadata": {},
   "outputs": [
    {
     "name": "stdout",
     "output_type": "stream",
     "text": [
      "200\n",
      "{\"datasetsInCollection\":1}\n",
      "{'datasetsInCollection': 1}\n"
     ]
    }
   ],
   "source": [
    "# param: addDatasetToCollectionSpace boolean; collection id; dataset id\n",
    "coll_id = '5a7c811b4f0cb43c8e37e1df'\n",
    "ds_id = '5a7c7e304f0cb43c8e37e145'\n",
    "r = requests.post('https://socialmediamacroscope.ncsa.illinois.edu/clowder/api/collections/'\n",
    "                  + coll_id +'/datasets/' + ds_id,\n",
    "                 data=payload,\n",
    "                 headers=headers,\n",
    "                 auth=auth) \n",
    "print(r.status_code)\n",
    "print(r.text)\n",
    "print(r.json())"
   ]
  },
  {
   "cell_type": "code",
   "execution_count": null,
   "metadata": {
    "collapsed": true
   },
   "outputs": [],
   "source": []
  }
 ],
 "metadata": {
  "kernelspec": {
   "display_name": "Python 3",
   "language": "python",
   "name": "python3"
  },
  "language_info": {
   "codemirror_mode": {
    "name": "ipython",
    "version": 3
   },
   "file_extension": ".py",
   "mimetype": "text/x-python",
   "name": "python",
   "nbconvert_exporter": "python",
   "pygments_lexer": "ipython3",
   "version": "3.6.1"
  }
 },
 "nbformat": 4,
 "nbformat_minor": 2
}
