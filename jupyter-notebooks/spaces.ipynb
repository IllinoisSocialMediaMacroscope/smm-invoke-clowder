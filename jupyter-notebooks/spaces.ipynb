{
 "cells": [
  {
   "cell_type": "code",
   "execution_count": 13,
   "metadata": {
    "collapsed": true
   },
   "outputs": [],
   "source": [
    "import requests\n",
    "import json\n",
    "auth = ('username','password')\n",
    "headers = {'Content-type': 'application/json', 'accept': 'application/json'}"
   ]
  },
  {
   "cell_type": "markdown",
   "metadata": {},
   "source": [
    "## spaces - Spaces are groupings of collections and datasets."
   ]
  },
  {
   "cell_type": "markdown",
   "metadata": {},
   "source": [
    "### create new spaces"
   ]
  },
  {
   "cell_type": "code",
   "execution_count": 4,
   "metadata": {},
   "outputs": [
    {
     "name": "stdout",
     "output_type": "stream",
     "text": [
      "200\n",
      "{\"id\":\"5a85c2fb4f0cb43c8e384178\"}\n",
      "{'id': '5a85c2fb4f0cb43c8e384178'}\n"
     ]
    }
   ],
   "source": [
    "# param: name, description\n",
    "payload = json.dumps({'name':'new space',\n",
    "                        'description': ''}) # description is neccesaary parameters!!\n",
    "r = requests.post('https://socialmediamacroscope.ncsa.illinois.edu/clowder/api/spaces',\n",
    "                 data=payload,\n",
    "                 headers=headers,\n",
    "                 auth=auth)\n",
    "print(r.status_code)\n",
    "print(r.text)\n",
    "print(r.json())"
   ]
  },
  {
   "cell_type": "markdown",
   "metadata": {},
   "source": [
    "### list spaces (edit)"
   ]
  },
  {
   "cell_type": "code",
   "execution_count": 14,
   "metadata": {},
   "outputs": [
    {
     "name": "stdout",
     "output_type": "stream",
     "text": [
      "200\n",
      "[{\"id\":\"5a84a9f34f0cb43c8e383590\",\"name\":\"bbbbbbbbbbb\",\"description\":\"eeeeeeeeee\",\"created\":\"Wed Feb 14 15:28:19 CST 2018\"},{\"id\":\"5a84a8134f0cb43c8e383574\",\"name\":\"aaaaaaaaaaaaa\",\"description\":\"bbbbbbbbbbbbb\",\"created\":\"Wed Feb 14 15:20:19 CST 2018\"},{\"id\":\"5a7c84a04f0cb43c8e37e206\",\"name\":\"new space\",\"description\":\"test creating new spaces\",\"created\":\"Thu Feb 08 11:10:56 CST 2018\"},{\"id\":\"5a3bef1c4f0cc6f36475b122\",\"name\":\"Testing uploads\",\"description\":\"Testing extractors.\",\"created\":\"Thu Dec 21 11:27:56 CST 2017\"}]\n",
      "[{'id': '5a84a9f34f0cb43c8e383590', 'name': 'bbbbbbbbbbb', 'description': 'eeeeeeeeee', 'created': 'Wed Feb 14 15:28:19 CST 2018'}, {'id': '5a84a8134f0cb43c8e383574', 'name': 'aaaaaaaaaaaaa', 'description': 'bbbbbbbbbbbbb', 'created': 'Wed Feb 14 15:20:19 CST 2018'}, {'id': '5a7c84a04f0cb43c8e37e206', 'name': 'new space', 'description': 'test creating new spaces', 'created': 'Thu Feb 08 11:10:56 CST 2018'}, {'id': '5a3bef1c4f0cc6f36475b122', 'name': 'Testing uploads', 'description': 'Testing extractors.', 'created': 'Thu Dec 21 11:27:56 CST 2017'}]\n"
     ]
    }
   ],
   "source": [
    "r = requests.get('https://socialmediamacroscope.ncsa.illinois.edu/clowder/api/spaces/canEdit', \n",
    "                 auth=auth)\n",
    "print(r.status_code)\n",
    "print(r.text)\n",
    "print(r.json())"
   ]
  },
  {
   "cell_type": "markdown",
   "metadata": {},
   "source": [
    "### add user to space"
   ]
  },
  {
   "cell_type": "code",
   "execution_count": 34,
   "metadata": {},
   "outputs": [
    {
     "name": "stdout",
     "output_type": "stream",
     "text": [
      "200\n",
      "{\"status\":\"success\"}\n",
      "{'status': 'success'}\n"
     ]
    }
   ],
   "source": [
    "# param: space id, {rolesandlevel:[user id1, user id2, ...]}\n",
    "# The data contained in the request body will defined by the following String key-value pairs:\n",
    "# rolesandusers -> A map that contains a role level as a key and a comma separated String of user IDs as the value\n",
    "# find this in html: var roleArray = [\"Admin\",\"Editor\",\"Viewer\"]\n",
    "sp_id = '5a84a9f34f0cb43c8e383590'\n",
    "#usr_id = '5a3c12d326705823ee65ab15' #cwang138\n",
    "usr_id = '5a7c8645c72b8996ebc7f2d2,5a3c12d326705823ee65ab15' #chenwang.carrie\n",
    "roles = 'Editor' # Admin, Editor, Viewer\n",
    "\n",
    "payload = json.dumps({'rolesandusers':{roles:usr_id}})\n",
    "r = requests.post('https://socialmediamacroscope.ncsa.illinois.edu/clowder/api/spaces/' + sp_id +'/updateUsers',\n",
    "                 data=payload,\n",
    "                 headers=headers,\n",
    "                 auth=auth)\n",
    "print(r.status_code)\n",
    "print(r.text)\n",
    "print(r.json())"
   ]
  },
  {
   "cell_type": "markdown",
   "metadata": {},
   "source": [
    "### get myself"
   ]
  },
  {
   "cell_type": "code",
   "execution_count": 17,
   "metadata": {},
   "outputs": [
    {
     "name": "stdout",
     "output_type": "stream",
     "text": [
      "200\n",
      "{\"@context\":{\"firstName\":\"http://schema.org/Person/givenName\",\"lastName\":\"http://schema.org/Person/familyName\",\"email\":\"http://schema.org/Person/email\",\"affiliation\":\"http://schema.org/Person/affiliation\"},\"id\":\"5a7c8645c72b8996ebc7f2d2\",\"firstName\":\"Chen\",\"lastName\":\"Wang\",\"fullName\":\"Chen Wang\",\"email\":\"chenwang.carrie@gmail.com\",\"avatar\":\"http://www.gravatar.com/avatar/7cc0e51e04e7be1d7bfffd13ff99761f?s=256&d=mm\",\"profile\":{},\"identityProvider\":\"Chen Wang (chenwang.carrie@gmail.com) [Local Account]\"}\n",
      "5a7c8645c72b8996ebc7f2d2\n"
     ]
    }
   ],
   "source": [
    "r = requests.get('https://socialmediamacroscope.ncsa.illinois.edu/clowder/api/me', \n",
    "                 auth=auth)\n",
    "print(r.status_code)\n",
    "print(r.text)\n",
    "print(r.json()['id'])\n",
    "#print(r.json()[1])"
   ]
  },
  {
   "cell_type": "code",
   "execution_count": 30,
   "metadata": {},
   "outputs": [
    {
     "name": "stdout",
     "output_type": "stream",
     "text": [
      "200\n",
      "[{\"@context\":{\"firstName\":\"http://schema.org/Person/givenName\",\"lastName\":\"http://schema.org/Person/familyName\",\"email\":\"http://schema.org/Person/email\",\"affiliation\":\"http://schema.org/Person/affiliation\"},\"id\":\"5a3026aa27c020777c0a14fe\",\"firstName\":\"Luigi\",\"lastName\":\"Marini\",\"fullName\":\"Luigi Marini\",\"email\":\"lmarini@illinois.edu\",\"avatar\":\"http://www.gravatar.com/avatar/ab960f78f4a47f3943636722a262dff2?d=404\",\"profile\":{},\"identityProvider\":\"Luigi Marini (lmarini@illinois.edu) [Local Account]\"},{\"@context\":{\"firstName\":\"http://schema.org/Person/givenName\",\"lastName\":\"http://schema.org/Person/familyName\",\"email\":\"http://schema.org/Person/email\",\"affiliation\":\"http://schema.org/Person/affiliation\"},\"id\":\"5a3c12d326705823ee65ab15\",\"firstName\":\"Chen\",\"lastName\":\"Wang\",\"fullName\":\"Chen Wang\",\"email\":\"cwang138@illinois.edu\",\"avatar\":\"http://www.gravatar.com/avatar/2f97a52f2214949c4172d7fb796f173e?s=256&d=mm\",\"profile\":{},\"identityProvider\":\"Chen Wang (cwang138@illinois.edu) [Local Account]\"},{\"@context\":{\"firstName\":\"http://schema.org/Person/givenName\",\"lastName\":\"http://schema.org/Person/familyName\",\"email\":\"http://schema.org/Person/email\",\"affiliation\":\"http://schema.org/Person/affiliation\"},\"id\":\"5a7c8645c72b8996ebc7f2d2\",\"firstName\":\"Chen\",\"lastName\":\"Wang\",\"fullName\":\"Chen Wang\",\"email\":\"chenwang.carrie@gmail.com\",\"avatar\":\"http://www.gravatar.com/avatar/7cc0e51e04e7be1d7bfffd13ff99761f?s=256&d=mm\",\"profile\":{},\"identityProvider\":\"Chen Wang (chenwang.carrie@gmail.com) [Local Account]\"},{\"@context\":{\"firstName\":\"http://schema.org/Person/givenName\",\"lastName\":\"http://schema.org/Person/familyName\",\"email\":\"http://schema.org/Person/email\",\"affiliation\":\"http://schema.org/Person/affiliation\"},\"id\":\"5a8b06a5c72b8996eb5a66a3\",\"firstName\":\"Nickolas\",\"lastName\":\"Vance\",\"fullName\":\"Nickolas Vance\",\"email\":\"npvance2@illinois.edu\",\"avatar\":\"http://www.gravatar.com/avatar/f2833dc7d7c8b97bc96e3cce07dfd7ba?s=256&d=mm\",\"profile\":{},\"identityProvider\":\"Nickolas Vance (npvance2@illinois.edu) [Local Account]\"}]\n"
     ]
    }
   ],
   "source": [
    "r = requests.get('https://socialmediamacroscope.ncsa.illinois.edu/clowder/api/users?key=Globalkeygoeshere!!!')\n",
    "print(r.status_code)\n",
    "print(r.text)\n",
    "#print(r.json()[1])"
   ]
  },
  {
   "cell_type": "code",
   "execution_count": null,
   "metadata": {
    "collapsed": true
   },
   "outputs": [],
   "source": []
  },
  {
   "cell_type": "markdown",
   "metadata": {},
   "source": [
    "### add collections to spaces"
   ]
  },
  {
   "cell_type": "code",
   "execution_count": 19,
   "metadata": {},
   "outputs": [
    {
     "name": "stdout",
     "output_type": "stream",
     "text": [
      "200\n",
      "{\"collectionInSpace\":\"2\"}\n",
      "{'collectionInSpace': '2'}\n"
     ]
    }
   ],
   "source": [
    "sp_id = '5a7c84a04f0cb43c8e37e206'\n",
    "coll_id = '5a7c811b4f0cb43c8e37e1df'\n",
    "r = requests.post('https://socialmediamacroscope.ncsa.illinois.edu/clowder/api/spaces/' \n",
    "                  + sp_id \n",
    "                  +'/addCollectionToSpace/'\n",
    "                  + coll_id,\n",
    "                 data=payload,\n",
    "                 headers=headers,\n",
    "                 auth=auth)    \n",
    "print(r.status_code)\n",
    "print(r.text)\n",
    "print(r.json())"
   ]
  },
  {
   "cell_type": "markdown",
   "metadata": {},
   "source": [
    "### add datasets to spaces"
   ]
  },
  {
   "cell_type": "code",
   "execution_count": 22,
   "metadata": {},
   "outputs": [
    {
     "name": "stdout",
     "output_type": "stream",
     "text": [
      "200\n",
      "{\"datasetsInSpace\":\"2\"}\n",
      "{'datasetsInSpace': '2'}\n"
     ]
    }
   ],
   "source": [
    "sp_id = '5a7c84a04f0cb43c8e37e206'\n",
    "ds_id = '5a7c7e304f0cb43c8e37e145'\n",
    "r = requests.post('https://socialmediamacroscope.ncsa.illinois.edu/clowder/api/spaces/' \n",
    "                  + sp_id \n",
    "                  +'/addDatasetToSpace/'\n",
    "                  + ds_id,\n",
    "                 data=payload,\n",
    "                 headers=headers,\n",
    "                 auth=auth)    \n",
    "print(r.status_code)\n",
    "print(r.text)\n",
    "print(r.json())"
   ]
  }
 ],
 "metadata": {
  "kernelspec": {
   "display_name": "Python 3",
   "language": "python",
   "name": "python3"
  },
  "language_info": {
   "codemirror_mode": {
    "name": "ipython",
    "version": 3
   },
   "file_extension": ".py",
   "mimetype": "text/x-python",
   "name": "python",
   "nbconvert_exporter": "python",
   "pygments_lexer": "ipython3",
   "version": "3.6.1"
  }
 },
 "nbformat": 4,
 "nbformat_minor": 2
}
