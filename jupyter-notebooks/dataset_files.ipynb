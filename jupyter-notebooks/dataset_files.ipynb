{
 "cells": [
  {
   "cell_type": "code",
   "execution_count": 5,
   "metadata": {
    "collapsed": true
   },
   "outputs": [],
   "source": [
    "import requests\n",
    "import json\n",
    "auth = ('your username','your password!')"
   ]
  },
  {
   "cell_type": "markdown",
   "metadata": {},
   "source": [
    "# Dataset"
   ]
  },
  {
   "cell_type": "markdown",
   "metadata": {},
   "source": [
    "### list datasets"
   ]
  },
  {
   "cell_type": "code",
   "execution_count": 9,
   "metadata": {},
   "outputs": [
    {
     "name": "stdout",
     "output_type": "stream",
     "text": [
      "200\n",
      "{'Server': 'nginx/1.10.3 (Ubuntu)', 'Date': 'Fri, 02 Feb 2018 23:58:34 GMT', 'Content-Type': 'application/json; charset=utf-8', 'Content-Length': '466', 'Connection': 'keep-alive', 'Vary': 'Accept-Encoding', 'Access-Control-Allow-Origin': '*', 'Access-Control-Allow-Headers': '', 'Access-Control-Allow-Methods': '*', 'Access-Control-Allow-Credentials': 'true', 'Content-Encoding': 'gzip'}\n",
      "[{\"id\":\"5a74bb5b4f0c98e197c4926e\",\"name\":\"superbowl\",\"description\":\"\",\"created\":\"Fri Feb 02 13:26:19 CST 2018\",\"thumbnail\":\"None\",\"authorId\":\"5a3c12d326705823ee65ab15\",\"spaces\":[]},{\"id\":\"5a7357594f0c98e197c48719\",\"name\":\"caf03666-5a5d-47b8-ad5f-18bade72ec7f\",\"description\":\"SA on tweet\\nkeywords UIUC\\nlength 1000\",\"created\":\"Thu Feb 01 12:07:21 CST 2018\",\"thumbnail\":\"None\",\"authorId\":\"5a3c12d326705823ee65ab15\",\"spaces\":[]},{\"id\":\"5a6f9f624f0cba40fdd2febc\",\"name\":\"test1\",\"description\":\"testing api createempty by chen wang\",\"created\":\"Mon Jan 29 16:25:38 CST 2018\",\"thumbnail\":\"None\",\"authorId\":\"5a3026aa27c020777c0a14fe\",\"spaces\":[]},{\"id\":\"5a6f9f474f0cba40fdd2feb9\",\"name\":\"test1\",\"description\":\"testing api createempty by chen wang\",\"created\":\"Mon Jan 29 16:25:11 CST 2018\",\"thumbnail\":\"None\",\"authorId\":\"5a3026aa27c020777c0a14fe\",\"spaces\":[]},{\"id\":\"5a679f674f0c5b247791cd35\",\"name\":\"test_dataset\",\"description\":\"\",\"created\":\"Tue Jan 23 14:47:35 CST 2018\",\"thumbnail\":\"5a679f764f0c5b247791cd60\",\"authorId\":\"5a3c12d326705823ee65ab15\",\"spaces\":[]},{\"id\":\"5a3bef2e4f0cc6f36475b13a\",\"name\":\"Extractors\",\"description\":\"\",\"created\":\"Thu Dec 21 11:28:14 CST 2017\",\"thumbnail\":\"5a3bf3d74f0cc6f36475b16e\",\"authorId\":\"5a3026aa27c020777c0a14fe\",\"spaces\":[\"5a3bef1c4f0cc6f36475b122\"]}]\n",
      "[{'id': '5a74bb5b4f0c98e197c4926e', 'name': 'superbowl', 'description': '', 'created': 'Fri Feb 02 13:26:19 CST 2018', 'thumbnail': 'None', 'authorId': '5a3c12d326705823ee65ab15', 'spaces': []}, {'id': '5a7357594f0c98e197c48719', 'name': 'caf03666-5a5d-47b8-ad5f-18bade72ec7f', 'description': 'SA on tweet\\nkeywords UIUC\\nlength 1000', 'created': 'Thu Feb 01 12:07:21 CST 2018', 'thumbnail': 'None', 'authorId': '5a3c12d326705823ee65ab15', 'spaces': []}, {'id': '5a6f9f624f0cba40fdd2febc', 'name': 'test1', 'description': 'testing api createempty by chen wang', 'created': 'Mon Jan 29 16:25:38 CST 2018', 'thumbnail': 'None', 'authorId': '5a3026aa27c020777c0a14fe', 'spaces': []}, {'id': '5a6f9f474f0cba40fdd2feb9', 'name': 'test1', 'description': 'testing api createempty by chen wang', 'created': 'Mon Jan 29 16:25:11 CST 2018', 'thumbnail': 'None', 'authorId': '5a3026aa27c020777c0a14fe', 'spaces': []}, {'id': '5a679f674f0c5b247791cd35', 'name': 'test_dataset', 'description': '', 'created': 'Tue Jan 23 14:47:35 CST 2018', 'thumbnail': '5a679f764f0c5b247791cd60', 'authorId': '5a3c12d326705823ee65ab15', 'spaces': []}, {'id': '5a3bef2e4f0cc6f36475b13a', 'name': 'Extractors', 'description': '', 'created': 'Thu Dec 21 11:28:14 CST 2017', 'thumbnail': '5a3bf3d74f0cc6f36475b16e', 'authorId': '5a3026aa27c020777c0a14fe', 'spaces': ['5a3bef1c4f0cc6f36475b122']}]\n"
     ]
    }
   ],
   "source": [
    "r = requests.get('https://socialmediamacroscope.ncsa.illinois.edu/clowder/api/datasets', \n",
    "                 auth=auth)\n",
    "print(r.status_code)\n",
    "print(r.headers)\n",
    "print(r.text)\n",
    "print(r.json())"
   ]
  },
  {
   "cell_type": "markdown",
   "metadata": {},
   "source": [
    "### create dataset"
   ]
  },
  {
   "cell_type": "code",
   "execution_count": 4,
   "metadata": {},
   "outputs": [
    {
     "name": "stdout",
     "output_type": "stream",
     "text": [
      "200\n",
      "{\"id\":\"5a7c8c1e4f0cb43c8e37e263\"}\n",
      "{'id': '5a7c8c1e4f0cb43c8e37e263'}\n"
     ]
    }
   ],
   "source": [
    "# name, description\n",
    "# access - PUBLIC vs PRIVATE \n",
    "# space - a list of string, can be empty\n",
    "# collection - a list of string, can be empty\n",
    "payload = json.dumps({'name':'test1 add space & collection', \n",
    "                      'description':'testing api createempty by chen wang',\n",
    "                      'access':'PRIVATE',\n",
    "                      'space':['5a7c84a04f0cb43c8e37e206','5a3bef1c4f0cc6f36475b122'],\n",
    "                      'collection':['5a7c811b4f0cb43c8e37e1df']}) \n",
    "headers = {'Content-type': 'application/json', 'accept': 'application/json'}\n",
    "r = requests.post('https://socialmediamacroscope.ncsa.illinois.edu/clowder/api/datasets/createempty',\n",
    "                 data=payload,\n",
    "                 headers=headers,\n",
    "                 auth=auth)\n",
    "print(r.status_code)\n",
    "print(r.text)\n",
    "print(r.json())"
   ]
  },
  {
   "cell_type": "markdown",
   "metadata": {},
   "source": [
    "### edit the description for the dataset"
   ]
  },
  {
   "cell_type": "code",
   "execution_count": 14,
   "metadata": {},
   "outputs": [
    {
     "name": "stdout",
     "output_type": "stream",
     "text": [
      "200\n",
      "{\"status\":\"success\"}\n",
      "{'status': 'success'}\n"
     ]
    }
   ],
   "source": [
    "# description\n",
    "id = '5a74fb6a4f0c93515342205e'\n",
    "payload = json.dumps({'description':'bbbbbb'})\n",
    "headers = {'Content-type': 'application/json', 'accept': 'application/json'}\n",
    "r = requests.put('https://socialmediamacroscope.ncsa.illinois.edu/clowder/api/datasets/' + id +'/description',\n",
    "                 data=payload,\n",
    "                 headers=headers,\n",
    "                 auth=auth)\n",
    "print(r.status_code)\n",
    "print(r.text)\n",
    "print(r.json())"
   ]
  },
  {
   "cell_type": "markdown",
   "metadata": {},
   "source": [
    "### edit the dataset name"
   ]
  },
  {
   "cell_type": "code",
   "execution_count": 16,
   "metadata": {},
   "outputs": [
    {
     "name": "stdout",
     "output_type": "stream",
     "text": [
      "200\n",
      "{\"status\":\"success\"}\n",
      "{'status': 'success'}\n"
     ]
    }
   ],
   "source": [
    "# name\n",
    "id = '5a74fb6a4f0c93515342205e'\n",
    "payload = json.dumps({'name':'APItest3'})\n",
    "headers = {'Content-type': 'application/json', 'accept': 'application/json'}\n",
    "r = requests.put('https://socialmediamacroscope.ncsa.illinois.edu/clowder/api/datasets/' + id +'/title',\n",
    "                 data=payload,\n",
    "                 headers=headers,\n",
    "                 auth=auth)\n",
    "print(r.status_code)\n",
    "print(r.text)\n",
    "print(r.json())"
   ]
  },
  {
   "cell_type": "markdown",
   "metadata": {},
   "source": [
    "### add tags to the dataset"
   ]
  },
  {
   "cell_type": "code",
   "execution_count": 17,
   "metadata": {},
   "outputs": [
    {
     "name": "stdout",
     "output_type": "stream",
     "text": [
      "200\n",
      "{\"status\":\"success\"}\n",
      "{'status': 'success'}\n"
     ]
    }
   ],
   "source": [
    "# tags has to be a list\n",
    "id = '5a74fb6a4f0c93515342205e'\n",
    "payload = json.dumps({'tags':['first test','APItest3','i dont know','blablabla']})\n",
    "headers = {'Content-type': 'application/json', 'accept': 'application/json'}\n",
    "r = requests.post('https://socialmediamacroscope.ncsa.illinois.edu/clowder/api/datasets/' + id +'/tags',\n",
    "                 data=payload,\n",
    "                 headers=headers,\n",
    "                 auth=auth)\n",
    "print(r.status_code)\n",
    "print(r.text)\n",
    "print(r.json())"
   ]
  },
  {
   "cell_type": "markdown",
   "metadata": {},
   "source": [
    "### add user metadata to dataset"
   ]
  },
  {
   "cell_type": "code",
   "execution_count": 18,
   "metadata": {},
   "outputs": [
    {
     "name": "stdout",
     "output_type": "stream",
     "text": [
      "200\n",
      "{\"status\":\"success\"}\n",
      "{'status': 'success'}\n"
     ]
    }
   ],
   "source": [
    "# any key value pair...\n",
    "# a few fields that defaulted by clowder: Audience, CSDMS Standard Name, Date and Time, Funding Institution, \n",
    "# GeoJSON, Grant Number, ODM2 Variable Name, Primary/Initial Publication, Principal Investigator(s),\n",
    "# References, Related Publications, SAS Spatial Geocode, SAS Variable Name, Time Periods, Unit\n",
    "id = '5a74fb6a4f0c93515342205e'\n",
    "payload = json.dumps({'time':'now','author':'chen','email':'cwang138@illinois.edu'})\n",
    "headers = {'Content-type': 'application/json', 'accept': 'application/json'}\n",
    "r = requests.post('https://socialmediamacroscope.ncsa.illinois.edu/clowder/api/datasets/' + id +'/metadata',\n",
    "                 data=payload,\n",
    "                 headers=headers,\n",
    "                 auth=auth)\n",
    "print(r.status_code)\n",
    "print(r.text)\n",
    "print(r.json())"
   ]
  },
  {
   "cell_type": "markdown",
   "metadata": {},
   "source": [
    "### delete dataset"
   ]
  },
  {
   "cell_type": "code",
   "execution_count": 19,
   "metadata": {},
   "outputs": [
    {
     "name": "stdout",
     "output_type": "stream",
     "text": [
      "200\n",
      "{\"status\":\"success\"}\n",
      "{'status': 'success'}\n"
     ]
    }
   ],
   "source": [
    "id = '5a74fb6a4f0c93515342205e'\n",
    "r = requests.delete('https://socialmediamacroscope.ncsa.illinois.edu/clowder/api/datasets/'+ id, auth=auth)\n",
    "print(r.status_code)\n",
    "print(r.text)\n",
    "print(r.json())"
   ]
  },
  {
   "cell_type": "markdown",
   "metadata": {},
   "source": [
    "# Files"
   ]
  },
  {
   "cell_type": "markdown",
   "metadata": {},
   "source": [
    "### upload files to that dataset"
   ]
  },
  {
   "cell_type": "code",
   "execution_count": 21,
   "metadata": {},
   "outputs": [
    {
     "name": "stdout",
     "output_type": "stream",
     "text": [
      "200\n",
      "{\"id\":\"5a74fc094f0c93515342207a\"}\n",
      "{'id': '5a74fc094f0c93515342207a'}\n"
     ]
    }
   ],
   "source": [
    "# any key value pair...\n",
    "id = '5a74fbd44f0c935153422077'\n",
    "url = 'http://illinois.edu/assets/img/branding/wordmark_vertical.png'\n",
    "payload = json.dumps({'url':url})\n",
    "headers = {'Content-type': 'application/json', 'accept': 'application/json'}\n",
    "r = requests.post('https://socialmediamacroscope.ncsa.illinois.edu/clowder/api/datasets/' + id + '/urls',\n",
    "                 data=payload,\n",
    "                 headers=headers,\n",
    "                 auth=auth)\n",
    "print(r.status_code)\n",
    "print(r.text)\n",
    "print(r.json())"
   ]
  },
  {
   "cell_type": "markdown",
   "metadata": {},
   "source": [
    "### add tag to a file (401 not authorized)"
   ]
  },
  {
   "cell_type": "code",
   "execution_count": 40,
   "metadata": {},
   "outputs": [
    {
     "name": "stdout",
     "output_type": "stream",
     "text": [
      "200\n",
      "{\"status\":\"success\"}\n",
      "{'status': 'success'}\n"
     ]
    }
   ],
   "source": [
    "# tags has to be a list\n",
    "file_id = '5a74fc094f0c93515342207a'\n",
    "payload = json.dumps({'tags':['kitty','s3bucket','something else']})\n",
    "headers = {'Content-type': 'application/json', 'accept': 'application/json'}\n",
    "r = requests.post('https://socialmediamacroscope.ncsa.illinois.edu/clowder/api/files/' + id +'/tags',\n",
    "                 data=payload,\n",
    "                 headers=headers,\n",
    "                 auth=auth)\n",
    "print(r.status_code)\n",
    "print(r.text)\n",
    "print(r.json())"
   ]
  },
  {
   "cell_type": "markdown",
   "metadata": {},
   "source": [
    "### add description to a file"
   ]
  },
  {
   "cell_type": "code",
   "execution_count": 38,
   "metadata": {},
   "outputs": [
    {
     "name": "stdout",
     "output_type": "stream",
     "text": [
      "200\n",
      "{\"status\":\"success\"}\n",
      "{'status': 'success'}\n"
     ]
    }
   ],
   "source": [
    "# description\n",
    "id = '5a74fc094f0c93515342207a'\n",
    "payload = json.dumps({'description':'ccccccccc'})\n",
    "headers = {'Content-type': 'application/json', 'accept': 'application/json'}\n",
    "r = requests.put('https://socialmediamacroscope.ncsa.illinois.edu/clowder/api/files/' + id +'/updateDescription',\n",
    "                 data=payload,\n",
    "                 headers=headers,\n",
    "                 auth=auth)\n",
    "print(r.status_code)\n",
    "print(r.text)\n",
    "print(r.json())"
   ]
  },
  {
   "cell_type": "markdown",
   "metadata": {},
   "source": [
    "### add metadata to a file"
   ]
  },
  {
   "cell_type": "code",
   "execution_count": 43,
   "metadata": {},
   "outputs": [
    {
     "name": "stdout",
     "output_type": "stream",
     "text": [
      "200\n",
      "\"success\"\n",
      "success\n"
     ]
    }
   ],
   "source": [
    "# metadata\n",
    "# a few fields that defaulted by clowder: Audience, CSDMS Standard Name, Date and Time, Funding Institution, \n",
    "# GeoJSON, Grant Number, ODM2 Variable Name, Primary/Initial Publication, Principal Investigator(s),\n",
    "# References, Related Publications, SAS Spatial Geocode, SAS Variable Name, Time Periods, Unit\n",
    "\n",
    "file_id = '5a74fc094f0c93515342207a'\n",
    "payload = json.dumps({'Audience':'chen wang','lalal':'lalalala'})\n",
    "headers = {'Content-type': 'application/json', 'accept': 'application/json'}\n",
    "r = requests.post('https://socialmediamacroscope.ncsa.illinois.edu/clowder/api/files/' + file_id +'/metadata',\n",
    "                 data=payload,\n",
    "                 headers=headers,\n",
    "                 auth=auth)\n",
    "print(r.status_code)\n",
    "print(r.text)\n",
    "print(r.json())"
   ]
  },
  {
   "cell_type": "markdown",
   "metadata": {},
   "source": [
    "### delete files from dataset "
   ]
  },
  {
   "cell_type": "code",
   "execution_count": 44,
   "metadata": {},
   "outputs": [
    {
     "name": "stdout",
     "output_type": "stream",
     "text": [
      "200\n",
      "{\"status\":\"success\"}\n",
      "{'status': 'success'}\n"
     ]
    }
   ],
   "source": [
    "file_id = '5a74fc094f0c93515342207a'\n",
    "r = requests.delete('https://socialmediamacroscope.ncsa.illinois.edu/clowder/api/files/'+ file_id, auth=auth)\n",
    "print(r.status_code)\n",
    "print(r.text)\n",
    "print(r.json())"
   ]
  }
 ],
 "metadata": {
  "kernelspec": {
   "display_name": "Python 3",
   "language": "python",
   "name": "python3"
  },
  "language_info": {
   "codemirror_mode": {
    "name": "ipython",
    "version": 3
   },
   "file_extension": ".py",
   "mimetype": "text/x-python",
   "name": "python",
   "nbconvert_exporter": "python",
   "pygments_lexer": "ipython3",
   "version": "3.6.1"
  }
 },
 "nbformat": 4,
 "nbformat_minor": 2
}
